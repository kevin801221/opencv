{
 "cells": [
  {
   "cell_type": "markdown",
   "metadata": {},
   "source": [
    "<img src=\"../Pics/MLSb-T.png\" width=\"160\">\n",
    "<br><br>\n",
    "<center><u><H1>Image Web Scraping with Selenium</H1></u></center>"
   ]
  },
  {
   "cell_type": "code",
   "execution_count": 1,
   "metadata": {},
   "outputs": [],
   "source": [
    "import os\n",
    "import selenium\n",
    "from selenium import webdriver\n",
    "import time\n",
    "from PIL import Image\n",
    "import io\n",
    "import requests"
   ]
  },
  {
   "cell_type": "code",
   "execution_count": 2,
   "metadata": {},
   "outputs": [],
   "source": [
    "DRIVER_PATH = './chromedriver_win32/chromedriver'\n",
    "\n",
    "def image_urls(string, max_links, driver):\n",
    "    \n",
    "    def scroll_to_end(driver):\n",
    "        driver.execute_script(\"window.scrollTo(0, document.body.scrollHeight);\")\n",
    "        time.sleep(2)#sleep_between_interactions    \n",
    "    \n",
    "    search_url = \"https://www.google.com/search?safe=off&site=&tbm=isch&source=hp&q={q}&oq={q}&gs_l=img\"\n",
    "\n",
    "    driver.get(search_url.format(q=string))\n",
    "\n",
    "    image_urls = set()\n",
    "    image_count = 0\n",
    "    results_start = 0\n",
    "    \n",
    "    while image_count < max_links:\n",
    "        scroll_to_end(driver)\n",
    "\n",
    "        thumbnail_results = driver.find_elements_by_css_selector(\"img.Q4LuWd\")\n",
    "        number_results = len(thumbnail_results)\n",
    "        \n",
    "        print(f\"Found: {number_results} search results. Extracting links from {results_start}:{number_results}\")\n",
    "        \n",
    "        for img in thumbnail_results[results_start:number_results]:\n",
    "            \n",
    "            try:\n",
    "                img.click()\n",
    "                time.sleep(1)\n",
    "            except Exception:\n",
    "                continue\n",
    "  \n",
    "            actual_images = driver.find_elements_by_css_selector('img.n3VNCb')\n",
    "            \n",
    "            for actual_image in actual_images:\n",
    "                if actual_image.get_attribute('src') and 'http' in actual_image.get_attribute('src'):\n",
    "                    image_urls.add(actual_image.get_attribute('src'))\n",
    "\n",
    "            image_count = len(image_urls)\n",
    "\n",
    "            if image_count >= max_links:\n",
    "                print(f\"Found: {image_count} image links\")\n",
    "                break\n",
    "        else:\n",
    "            print(\"Found:\", image_count, \"looking for more image links ...\")\n",
    "            time.sleep(30)\n",
    "            return\n",
    "            \n",
    "            load_more_button = driver.find_element_by_css_selector(\".mye4qd\")\n",
    "            \n",
    "            if load_more_button:\n",
    "                driver.execute_script(\"document.querySelector('.mye4qd').click();\")\n",
    "\n",
    "        results_start = len(thumbnail_results)\n",
    "\n",
    "    return image_urls\n",
    "\n",
    "def save_images(folder_path,file_name,url):\n",
    "    try:\n",
    "        image_content = requests.get(url).content\n",
    "\n",
    "    except Exception as e:\n",
    "        print(f\"ERROR - COULD NOT DOWNLOAD {url} - {e}\")\n",
    "\n",
    "    try:\n",
    "        image_file = io.BytesIO(image_content)\n",
    "        image = Image.open(image_file).convert('RGB')\n",
    "        \n",
    "        file_path = os.path.join(folder_path, file_name)\n",
    "        \n",
    "        with open(file_path, 'wb') as f:\n",
    "            image.save(f, \"JPEG\", quality=85)\n",
    "        print(f\"SAVED - {url} - AT: {file_path}\")\n",
    "    except Exception as e:\n",
    "        print(f\"ERROR - COULD NOT SAVE {url} - {e}\")"
   ]
  },
  {
   "cell_type": "code",
   "execution_count": 3,
   "metadata": {
    "scrolled": true
   },
   "outputs": [
    {
     "name": "stdout",
     "output_type": "stream",
     "text": [
      "Found: 200 search results. Extracting links from 0:200\n",
      "Found: 5 image links\n",
      "SAVED - https://www.stm.info/sites/default/files/styles/stm_article_full/public/ap_tete_serie_new_flyer_4_bandeau_final.jpg?itok=56NVLSjL - AT: ./img/bus\\000000.jpg\n",
      "SAVED - https://shawglobalnews.files.wordpress.com/2019/10/bus-edited.jpg?quality=70&strip=all - AT: ./img/bus\\000001.jpg\n",
      "SAVED - https://images.glaciermedia.ca/polopoly_fs/1.23894071.1563916595!/fileImage/httpImage/image.jpg_gen/derivatives/landscape_804/rapid-bus.jpg - AT: ./img/bus\\000002.jpg\n",
      "SAVED - https://media.wired.com/photos/5cf832279c2a7cd3975976ca/master/pass/Transpo_XcelsiorChargeCharging_TA.jpg - AT: ./img/bus\\000003.jpg\n",
      "SAVED - https://upload.wikimedia.org/wikipedia/commons/6/6a/TransMio_de_Villa_Nueva_GT.jpg - AT: ./img/bus\\000004.jpg\n",
      "Found: 200 search results. Extracting links from 0:200\n",
      "Found: 5 image links\n",
      "SAVED - https://specials-images.forbesimg.com/imageserve/5d35eacaf1176b0008974b54/960x0.jpg?cropX1=790&cropX2=5350&cropY1=784&cropY2=3349 - AT: ./img/cars\\000000.jpg\n",
      "SAVED - https://i.ytimg.com/vi/SbXIj2T-_uk/maxresdefault.jpg - AT: ./img/cars\\000001.jpg\n",
      "ERROR - COULD NOT SAVE https://cars.usnews.com/dims4/USNEWS/6d48f79/2147483647/resize/640x420%3E/format/jpeg/quality/85/?url=https%3A%2F%2Fcars.usnews.com%2Fstatic%2Fimages%2Farticle%2F202002%2F128389%2F1_title_2020_kia_optima_640x420.jpg - cannot identify image file <_io.BytesIO object at 0x0000028305229F10>\n",
      "SAVED - https://cdn.motor1.com/images/mgl/oVk12/s1/future-cars-lead.jpg - AT: ./img/cars\\000003.jpg\n",
      "SAVED - https://hips.hearstapps.com/hmg-prod.s3.amazonaws.com/images/10best-cars-group-cropped-1542126037.jpg - AT: ./img/cars\\000004.jpg\n"
     ]
    }
   ],
   "source": [
    "driver = webdriver.Chrome(executable_path=DRIVER_PATH)\n",
    "search_names = [\"bus\",\"cars\"]\n",
    "images_path = f'./img/'\n",
    "\n",
    "for name in search_names:\n",
    "    path = os.path.join(images_path,name)\n",
    "    if not os.path.isdir(path):\n",
    "        os.mkdir(path)\n",
    "\n",
    "    driver.get('https://google.com')\n",
    "    search_box = driver.find_element_by_css_selector('input.gLFyf')\n",
    "    search_box.send_keys(name)\n",
    "    links = image_urls(name,5,driver)\n",
    "\n",
    "    for i, link in enumerate(links):\n",
    "        file_name = f\"{i:06}.jpg\"\n",
    "        save_images(path,file_name,link)\n",
    "driver.quit()"
   ]
  },
  {
   "cell_type": "markdown",
   "metadata": {},
   "source": [
    "## Reference:\n",
    "- https://selenium-python.readthedocs.io/installation.html"
   ]
  }
 ],
 "metadata": {
  "kernelspec": {
   "display_name": "tf_1.13_gpu",
   "language": "python",
   "name": "tf113_gpu"
  },
  "language_info": {
   "codemirror_mode": {
    "name": "ipython",
    "version": 3
   },
   "file_extension": ".py",
   "mimetype": "text/x-python",
   "name": "python",
   "nbconvert_exporter": "python",
   "pygments_lexer": "ipython3",
   "version": "3.6.8"
  },
  "toc": {
   "base_numbering": 1,
   "nav_menu": {},
   "number_sections": true,
   "sideBar": true,
   "skip_h1_title": false,
   "title_cell": "Table of Contents",
   "title_sidebar": "Contents",
   "toc_cell": false,
   "toc_position": {},
   "toc_section_display": true,
   "toc_window_display": false
  },
  "varInspector": {
   "cols": {
    "lenName": 16,
    "lenType": 16,
    "lenVar": 40
   },
   "kernels_config": {
    "python": {
     "delete_cmd_postfix": "",
     "delete_cmd_prefix": "del ",
     "library": "var_list.py",
     "varRefreshCmd": "print(var_dic_list())"
    },
    "r": {
     "delete_cmd_postfix": ") ",
     "delete_cmd_prefix": "rm(",
     "library": "var_list.r",
     "varRefreshCmd": "cat(var_dic_list()) "
    }
   },
   "types_to_exclude": [
    "module",
    "function",
    "builtin_function_or_method",
    "instance",
    "_Feature"
   ],
   "window_display": false
  }
 },
 "nbformat": 4,
 "nbformat_minor": 4
}
